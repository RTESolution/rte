{
 "cells": [
  {
   "cell_type": "code",
   "execution_count": 1,
   "id": "cd55c1ed-f1c4-4111-b696-91bb79027719",
   "metadata": {},
   "outputs": [],
   "source": [
    "import numpy as np\n",
    "\n",
    "import rte\n",
    "import vegas_params as vp\n",
    "import pylab as plt\n",
    "from tqdm.auto import tqdm"
   ]
  },
  {
   "cell_type": "code",
   "execution_count": 2,
   "id": "6b8717a0-ca7f-4b55-88bc-f2a66ad248d9",
   "metadata": {},
   "outputs": [],
   "source": [
    "#calculate the factor\n",
    "R = 0.21\n",
    "S_factor = np.pi * R**2\n",
    "S_factor = 1"
   ]
  },
  {
   "cell_type": "code",
   "execution_count": 3,
   "id": "3a655fb7-424f-48d6-9240-cce6f7eacc37",
   "metadata": {},
   "outputs": [
    {
     "data": {
      "text/plain": [
       "Process[3](\n",
       "     --> src=Source[0](\n",
       "         --> R=Vector[0](\n",
       "             --> xyz=Fixed[0]([[0 0 0]])\n",
       "        )\n",
       "         --> T=Fixed[0]([[0]])\n",
       "         --> s=Vector[0](\n",
       "             --> xyz=Fixed[0]([[0 0 1]])\n",
       "        )\n",
       "    )\n",
       "     --> tgt=Target[0](\n",
       "         --> R=Vector[0](\n",
       "             --> xyz=Fixed[0]([[1 0 1]])\n",
       "        )\n",
       "         --> T=Fixed[0]([[1.e-07]])\n",
       "         --> s=Vector[0](\n",
       "             --> xyz=Fixed[0]([[0 0 1]])\n",
       "        )\n",
       "    )\n",
       "     --> steps=StepsUniform[3](\n",
       "         --> t=Times_from_xi[1](\n",
       "             --> xi=Concat[1](\n",
       "                 --> p_0=Fixed[0]([[1]])\n",
       "                 --> p_1=Uniform[1]([0, 1])\n",
       "            )\n",
       "        )\n",
       "         --> s=Concat[2](\n",
       "             --> p_0=Direction[0](\n",
       "                 --> cos_theta=Fixed[0]([[1]])\n",
       "                 --> phi=Fixed[0]([[0]])\n",
       "            )\n",
       "             --> p_1=Direction[2](\n",
       "                 --> cos_theta=Uniform[1]([-1, 1])\n",
       "                 --> phi=Uniform[1]([0.0, 6.283185307179586])\n",
       "            )\n",
       "        )\n",
       "    )\n",
       ")"
      ]
     },
     "execution_count": 3,
     "metadata": {},
     "output_type": "execute_result"
    }
   ],
   "source": [
    "v_expected = {1e-6: 3.34332961e-07, 1e-8:1.10669159e+04}\n",
    "\n",
    "#initial setup for source and target\n",
    "src = rte.Source(R=vp.Vector([0,0,0]),\n",
    "                 T=0,\n",
    "                 s=vp.Vector([0,0,1]))\n",
    "\n",
    "tgt = rte.Target(R=vp.Vector([1,0,1]),\n",
    "                 T=1e-7,\n",
    "                 s=vp.Vector([0,0,1]))\n",
    "\n",
    "p = rte.Process(src, tgt, medium=rte.medium.water, Nsteps=2, use_uniform_sampling=True)\n",
    "#p['steps']['t'] = rte.steps.Times_from_xi([1,0])\n",
    "#p['steps']['s']['p_1'] = vp.Direction(cos_z, phi)\n",
    "p"
   ]
  },
  {
   "cell_type": "markdown",
   "id": "eef08db3-ade0-4a5e-8114-9f11d5edd4f1",
   "metadata": {},
   "source": [
    "# Cross-check with the fixed grid"
   ]
  },
  {
   "cell_type": "code",
   "execution_count": 4,
   "id": "ea71a342-a684-45dc-b7ea-e3310bc0ab89",
   "metadata": {},
   "outputs": [],
   "source": [
    "def calc_value(p, xi, cos_z, phi, **kwargs):\n",
    "    p['steps']['t'] = rte.steps.Times_from_xi([1,xi])\n",
    "    p['steps']['s'] = vp.Direction(1, 0)|vp.Direction(cos_z, phi)\n",
    "    return p.calculate(**kwargs)"
   ]
  },
  {
   "cell_type": "code",
   "execution_count": 5,
   "id": "3b8baf61-0d8c-40a9-8311-a13af5c53515",
   "metadata": {},
   "outputs": [],
   "source": [
    "xis =np.linspace(0,1,121)\n",
    "coss=np.linspace(0,1,101)\n",
    "phis=np.linspace(0,2*np.pi, 40)"
   ]
  },
  {
   "cell_type": "markdown",
   "id": "6eed8d41-c890-4d93-b545-989b815f7875",
   "metadata": {},
   "source": [
    "result = [[[calc_value(p,xi,cos_z,phi).mean for phi in phis]\n",
    "           for cos_z in coss]\n",
    "          for xi in tqdm(xis)]\n",
    "res0 = np.asarray(result)\n",
    "res0.shape"
   ]
  },
  {
   "cell_type": "code",
   "execution_count": 6,
   "id": "ae8cb6ba-9f28-4c1d-8693-6fbf1cc254d6",
   "metadata": {},
   "outputs": [],
   "source": [
    "p = rte.Process(src, tgt, medium=rte.medium.water, Nsteps=2, use_uniform_sampling=True)\n",
    "\n",
    "def calc_values(p, xi, cos_z, phi, **kwargs):\n",
    "    x = np.stack([x.flatten() for x in np.meshgrid(xi, cos_z, phi, indexing='ij')]).T\n",
    "    shape = (len(xi),len(cos_z),len(phi))\n",
    "    res =  p.__construct__(x).squeeze()*p.factor\n",
    "    res = np.reshape(res,shape)\n",
    "    return res"
   ]
  },
  {
   "cell_type": "code",
   "execution_count": 7,
   "id": "0a8f8795-7167-4953-a407-e2782ad89303",
   "metadata": {},
   "outputs": [
    {
     "name": "stderr",
     "output_type": "stream",
     "text": [
      "\u001b[32m2024-04-22 12:37:53.573\u001b[0m | \u001b[34m\u001b[1mDEBUG   \u001b[0m | \u001b[36mrte.steps\u001b[0m:\u001b[36mTimes_from_xi\u001b[0m:\u001b[36m37\u001b[0m - \u001b[34m\u001b[1mpowers = [[-1]\n",
      " [ 0]]\u001b[0m\n",
      "/home/ash/work/baikal/rte/RTE_package/rte/process.py:69: RuntimeWarning: invalid value encountered in divide\n",
      "  step_length = np.where(is_linear, -R1_2/(2*R1N), (R1N+np.sqrt(D))/(gamma))\n",
      "\u001b[32m2024-04-22 12:37:53.997\u001b[0m | \u001b[34m\u001b[1mDEBUG   \u001b[0m | \u001b[36mrte.process\u001b[0m:\u001b[36m__call__\u001b[0m:\u001b[36m113\u001b[0m - \u001b[34m\u001b[1mscat_factor=[[0.00720776]\n",
      " [0.00719315]\n",
      " [0.00714998]\n",
      " ...\n",
      " [0.00221187]\n",
      " [0.00221187]\n",
      " [0.00221187]]\u001b[0m\n",
      "\u001b[32m2024-04-22 12:37:53.997\u001b[0m | \u001b[34m\u001b[1mDEBUG   \u001b[0m | \u001b[36mrte.process\u001b[0m:\u001b[36m__call__\u001b[0m:\u001b[36m114\u001b[0m - \u001b[34m\u001b[1matt_factor=[[[0.02560935]\n",
      "  [0.02560935]\n",
      "  [0.02560935]\n",
      "  ...\n",
      "  [0.02560935]\n",
      "  [0.02560935]\n",
      "  [0.02560935]]]\u001b[0m\n",
      "\u001b[32m2024-04-22 12:37:53.998\u001b[0m | \u001b[34m\u001b[1mDEBUG   \u001b[0m | \u001b[36mrte.process\u001b[0m:\u001b[36m__call__\u001b[0m:\u001b[36m115\u001b[0m - \u001b[34m\u001b[1mdelta_factor=[[[0.00020665]\n",
      "  [0.00020665]\n",
      "  [0.00020665]\n",
      "  ...\n",
      "  [0.00020665]\n",
      "  [0.00020665]\n",
      "  [0.00020665]]]\u001b[0m\n"
     ]
    },
    {
     "name": "stdout",
     "output_type": "stream",
     "text": [
      "CPU times: user 458 ms, sys: 37.1 ms, total: 495 ms\n",
      "Wall time: 497 ms\n"
     ]
    }
   ],
   "source": [
    "%%time\n",
    "res1 = calc_values(p,xis,coss,phis)"
   ]
  },
  {
   "cell_type": "markdown",
   "id": "2b93fb70-bfd0-4f57-9f27-6fd271863834",
   "metadata": {},
   "source": [
    "### Направление последнего шага $\\vec{s}'$\n",
    "\n",
    "Теперь направление определяется так:\n",
    "$$\n",
    "\\vec{s}^* = \\frac{\\vec{R_1}}{L}+\\vec{N}\n",
    "$$"
   ]
  },
  {
   "cell_type": "markdown",
   "id": "b23fc99c-9492-4d65-a753-523edc31468a",
   "metadata": {},
   "source": [
    "# Check factors"
   ]
  },
  {
   "cell_type": "code",
   "execution_count": 8,
   "id": "42dc8d86-50a1-454a-bf8f-e5dd33f3c678",
   "metadata": {},
   "outputs": [
    {
     "name": "stderr",
     "output_type": "stream",
     "text": [
      "\u001b[32m2024-04-22 12:37:54.044\u001b[0m | \u001b[34m\u001b[1mDEBUG   \u001b[0m | \u001b[36mrte.steps\u001b[0m:\u001b[36mTimes_from_xi\u001b[0m:\u001b[36m37\u001b[0m - \u001b[34m\u001b[1mpowers = [[-1]\n",
      " [ 0]]\u001b[0m\n",
      "\u001b[32m2024-04-22 12:37:54.046\u001b[0m | \u001b[34m\u001b[1mDEBUG   \u001b[0m | \u001b[36mrte.process\u001b[0m:\u001b[36m__call__\u001b[0m:\u001b[36m113\u001b[0m - \u001b[34m\u001b[1mscat_factor=[[0.00221187]]\u001b[0m\n",
      "\u001b[32m2024-04-22 12:37:54.046\u001b[0m | \u001b[34m\u001b[1mDEBUG   \u001b[0m | \u001b[36mrte.process\u001b[0m:\u001b[36m__call__\u001b[0m:\u001b[36m114\u001b[0m - \u001b[34m\u001b[1matt_factor=[[[0.02560935]]]\u001b[0m\n",
      "\u001b[32m2024-04-22 12:37:54.046\u001b[0m | \u001b[34m\u001b[1mDEBUG   \u001b[0m | \u001b[36mrte.process\u001b[0m:\u001b[36m__call__\u001b[0m:\u001b[36m115\u001b[0m - \u001b[34m\u001b[1mdelta_factor=[[[0.00020665]]]\u001b[0m\n"
     ]
    },
    {
     "data": {
      "text/plain": [
       "38.8779(0)"
      ]
     },
     "execution_count": 8,
     "metadata": {},
     "output_type": "execute_result"
    }
   ],
   "source": [
    "p.save_trajectory=True\n",
    "calc_value(p, xi=0.1, cos_z=1, phi=0)"
   ]
  },
  {
   "cell_type": "markdown",
   "id": "d059e374-6831-4596-aa9a-9c3311d0c883",
   "metadata": {},
   "source": [
    "$$\n",
    "F_{att} = e^{-\\mu_t\\,c\\,T}\\cdot \\left[\\mu_s\\,c\\,T\\right]^n = 0.025609348656401597\n",
    "$$"
   ]
  },
  {
   "cell_type": "markdown",
   "id": "9c868816-25c2-40f4-b657-b390fc329cb5",
   "metadata": {},
   "source": [
    "$$\n",
    "F_{scat} = \\prod_{i=1}^{n} f(\\hat{s}_i\\cdot\\hat{s}_{i-1}) = 0.03344281543575628\n",
    "$$"
   ]
  },
  {
   "cell_type": "markdown",
   "id": "fac46d57-aa5e-427d-b792-896a35a71f7b",
   "metadata": {},
   "source": [
    "$$\n",
    "F_{delta} = \\frac{1}{L\\cdot|(\\vec{R}_1\\vec{N} - L(1-\\vec{N}^2)|} \\cdot \\frac{1}{cT} = 0.00020665\n",
    "$$\n",
    "where $L$ is last step:\n",
    "$$\n",
    "L\\equiv |\\vec{R}-\\vec{r}_{n-1}| = |\\vec{R}-\\vec{r}_{2}| = 10.50698152\n",
    "$$\n",
    "and $N$ is direction vector, scaled by time:\n",
    "$$\n",
    "\\vec{N} = \\sum\\limits_{i=0}^{n-2}\\vec{s}_i\\cdot \\frac{t_{i+1}-t_{i}}{t_{n-1}} = [0, 0, 1]\n",
    "$$"
   ]
  },
  {
   "cell_type": "markdown",
   "id": "f1e79f5c-c379-446b-8568-a4d526f92871",
   "metadata": {},
   "source": [
    "Result:\n",
    "$$\n",
    "F_{total} = F_{att}\\cdot F_{scat}\\cdot F_{delta}\\cdot c = 38.87785328\n",
    "$$"
   ]
  },
  {
   "cell_type": "code",
   "execution_count": 9,
   "id": "4ee3afe3-c9d5-4694-8fd6-14e8ffbc2de7",
   "metadata": {},
   "outputs": [],
   "source": [
    "#grab the variables\n",
    "from rte.medium import water\n",
    "T = 1e-7\n",
    "s = p.trajectory.s.swapaxes(0,1)\n",
    "r = p.trajectory.R.swapaxes(0,1)\n",
    "t = p.trajectory.T.swapaxes(0,1)\n",
    "R = r[-1]\n"
   ]
  },
  {
   "cell_type": "code",
   "execution_count": 10,
   "id": "f126bdbc-92d4-4bb0-b424-ce09b2fa16d9",
   "metadata": {},
   "outputs": [
    {
     "data": {
      "text/plain": [
       "0.025609348656401597"
      ]
     },
     "execution_count": 10,
     "metadata": {},
     "output_type": "execute_result"
    }
   ],
   "source": [
    "#att factor\n",
    "F_att = rte.medium.water.attenuation(T,2)\n",
    "F_att"
   ]
  },
  {
   "cell_type": "code",
   "execution_count": 11,
   "id": "d0a9e6ab-c257-420d-8432-473ec246d52c",
   "metadata": {},
   "outputs": [
    {
     "data": {
      "text/plain": [
       "0.03344281543575628"
      ]
     },
     "execution_count": 11,
     "metadata": {},
     "output_type": "execute_result"
    }
   ],
   "source": [
    "#scat factor\n",
    "s_dot_s = np.sum(s[1:]*s[:-1], axis=2)\n",
    "scat_factors = rte.medium.water.scatter(s_dot_s).flatten()\n",
    "F_scat = np.prod(scat_factors)\n",
    "F_scat"
   ]
  },
  {
   "cell_type": "code",
   "execution_count": null,
   "id": "261c15a6-add0-4b96-8600-09e74106e114",
   "metadata": {},
   "outputs": [],
   "source": [
    "#delta factor\n",
    "dR_last = np.diff(r,axis=0)[-1]\n",
    "L = dR_last.mag()\n",
    "dt = np.diff(t, axis=0)/t[2]\n",
    "N = np.sum((s*dt)[:-1], axis=0)\n",
    "R1 = R-N*T*water.c\n",
    "R1N = R1.dot(N)\n",
    "gamma = 1-np.linalg.norm(N,axis=-1)\n",
    "\n",
    "F_delta = 1/(L*np.abs(R1N - L*gamma)) \n",
    "F_delta *= 1/(water.c*T)\n",
    "F_delta.squeeze()"
   ]
  },
  {
   "cell_type": "code",
   "execution_count": null,
   "id": "a3ff30de-6a86-4665-bb23-6cf93ee62935",
   "metadata": {},
   "outputs": [],
   "source": [
    "L"
   ]
  },
  {
   "cell_type": "code",
   "execution_count": null,
   "id": "2e461225-1fee-4786-9665-fcc741965b78",
   "metadata": {},
   "outputs": [],
   "source": [
    "F_att*F_delta*F_scat*water.c"
   ]
  },
  {
   "cell_type": "code",
   "execution_count": null,
   "id": "45c3ddcc-b397-44f6-80dd-5b1a1b86071d",
   "metadata": {},
   "outputs": [],
   "source": [
    "import textwrap\n",
    "\n",
    "def print_factors(p):\n",
    "    res = f'{p.factor}'\n",
    "    if hasattr(p,'parameters'):\n",
    "        pars = '\\n'.join([f' --> {name}={print_factors(par)}' for name,par in p.parameters.items()])\n",
    "        res += f'(\\n{textwrap.indent(pars,\"    \")}\\n)'\n",
    "    return res\n",
    "\n",
    "\n",
    "print(print_factors(p))"
   ]
  },
  {
   "cell_type": "code",
   "execution_count": null,
   "id": "c8c0feda-ae75-49e4-8225-962f0168854f",
   "metadata": {},
   "outputs": [],
   "source": [
    "p['steps'].factor\n",
    "p['steps']['s'].factor"
   ]
  },
  {
   "cell_type": "code",
   "execution_count": null,
   "id": "8a44c94a-a328-4186-b42c-04c18716093d",
   "metadata": {},
   "outputs": [],
   "source": []
  },
  {
   "cell_type": "code",
   "execution_count": null,
   "id": "2f41e052-b6ba-4c30-b0fe-232bc778bc39",
   "metadata": {},
   "outputs": [],
   "source": [
    "for val in ['R','T','s']:\n",
    "    print(f'{val} = \\n{p.trajectory.__dict__[val]}')"
   ]
  },
  {
   "cell_type": "code",
   "execution_count": null,
   "id": "2979a6db-9a4b-4f2d-ab83-508bf3764a25",
   "metadata": {},
   "outputs": [],
   "source": [
    "np.savez('check_grid_1e-7.npz',phi=phis, xi=xis, cos_theta=coss, result=res1, process_desc=str(p))"
   ]
  },
  {
   "cell_type": "code",
   "execution_count": null,
   "id": "8e51325a-97c5-4079-b1bb-38420d726c5e",
   "metadata": {},
   "outputs": [],
   "source": [
    "f = np.load('check_grid.npz')\n",
    "print(f['process_desc'])"
   ]
  },
  {
   "cell_type": "code",
   "execution_count": null,
   "id": "1cbe1536-6de5-48a7-9f25-b0d2d0ebc40e",
   "metadata": {},
   "outputs": [],
   "source": [
    "res0[:,0,0]"
   ]
  },
  {
   "cell_type": "code",
   "execution_count": null,
   "id": "880eddb5-d153-4495-824e-940eb2eb08c1",
   "metadata": {},
   "outputs": [],
   "source": [
    "res1[:,0,0]"
   ]
  },
  {
   "cell_type": "code",
   "execution_count": null,
   "id": "c2652ff1-df7b-4125-9751-6a9e58f1e859",
   "metadata": {},
   "outputs": [],
   "source": [
    "fname = 'cross_check/Light_1_0_1_0.9.npz'\n",
    "fname = 'cross_check/Light_1_0_2_0.9.npz'\n",
    "fname = 'cross_check/Light_2_0_2_0.9.npz'\n",
    "fname = 'cross_check/SecondLight_1_0_1_0.9.npz'\n",
    "#fname = 'cross_check/Light_10_0_10_0.9.npz'\n",
    "\n",
    "#fname = 'cross_check/Light_3_0_10_0.9.npz'\n",
    "#fname = 'cross_check/Light_5_0_2_0.9.npz'"
   ]
  },
  {
   "cell_type": "code",
   "execution_count": null,
   "id": "a61c5471-c557-4fed-a347-169d0ddab044",
   "metadata": {},
   "outputs": [],
   "source": [
    "#load the file\n",
    "data = np.load(fname)"
   ]
  },
  {
   "cell_type": "code",
   "execution_count": null,
   "id": "af69f818-c50b-4401-9663-d99eff338cc5",
   "metadata": {},
   "outputs": [],
   "source": [
    "#initial setup for source and target\n",
    "src = rte.Source(R=vp.Vector([0,0,0]),\n",
    "                 T=0,\n",
    "                 s=vp.Vector([0,0,1]))\n",
    "\n",
    "tgt = rte.Target(R=vp.Vector(data['r']),\n",
    "                 T=1e-7,\n",
    "                 s=vp.Vector([0,0,1]))"
   ]
  },
  {
   "cell_type": "code",
   "execution_count": null,
   "id": "0f48cb0f-399e-4995-af1f-93c423fabd01",
   "metadata": {},
   "outputs": [],
   "source": [
    "#take every n-th point\n",
    "n = 1\n",
    "#select some points\n",
    "#times = data['time'][::n]\n",
    "xis = data['ksi'][::n]\n",
    "photons = data['photons'][:,:,::n]\n",
    "#skip 0-th order, stop at 4th \n",
    "photons = photons[1:5]\n",
    "#correct by factor \n",
    "photons = photons/S_factor\n",
    "photons.shape"
   ]
  },
  {
   "cell_type": "code",
   "execution_count": null,
   "id": "46f56a86-f14b-4dac-8466-d3c83214f6f4",
   "metadata": {},
   "outputs": [],
   "source": [
    "xis.shape"
   ]
  },
  {
   "cell_type": "code",
   "execution_count": null,
   "id": "57a12c31-0b63-41cc-8dc4-69219754d9e0",
   "metadata": {},
   "outputs": [],
   "source": [
    "Nsteps_total = photons.shape[0]\n",
    "Ns = np.arange(Nsteps_total)+1"
   ]
  },
  {
   "cell_type": "markdown",
   "id": "6a791360-4982-435a-9e9f-e2470d188c62",
   "metadata": {},
   "source": [
    "# Cross-check with $\\xi$"
   ]
  },
  {
   "cell_type": "code",
   "execution_count": null,
   "id": "13cf7fef-cdec-4f27-a656-dbd612d524bc",
   "metadata": {},
   "outputs": [],
   "source": [
    "from tqdm.auto import tqdm\n",
    "\n",
    "result = []\n",
    "Nsteps=2\n",
    "p = rte.Process(src, tgt, medium=rte.medium.water, Nsteps=Nsteps)\n",
    "for xi in tqdm(xis, desc=f'{Nsteps} order'):\n",
    "    #p['tgt']['T']=vp.Fixed(t)\n",
    "    p['steps']['t']['xi']['p_1']=vp.Fixed(xi)\n",
    "    res = p.calculate(nitn=20, neval=100000)\n",
    "    result.append([res.mean, res.sdev])\n",
    "\n",
    "#make it the same shape as photons\n",
    "result = np.array(result)\n",
    "result = np.swapaxes(result, 0,1)\n",
    "result.shape"
   ]
  },
  {
   "cell_type": "code",
   "execution_count": null,
   "id": "3f497be9-864e-45c2-83e2-be418de66f55",
   "metadata": {},
   "outputs": [],
   "source": [
    "p"
   ]
  },
  {
   "cell_type": "code",
   "execution_count": null,
   "id": "3a4e21d3-aca1-4406-86b1-813fcf9d2611",
   "metadata": {},
   "outputs": [],
   "source": [
    "import pylab as plt\n",
    "\n",
    "fig = plt.figure(figsize=(6,4))#, sharey=True)\n",
    "\n",
    "old = photons[1]\n",
    "new = result\n",
    "plt.errorbar(x=xis, y=old[0], yerr=old[1], fmt='.-k', label='V')\n",
    "plt.errorbar(x=xis, y=new[0], yerr=new[1], fmt='.r-', label='A')\n",
    "    \n",
    "plt.ylabel('$\\Phi^{'+f'({Nsteps})'+'}$')\n",
    "\n",
    "#plt.sca(axes[0])\n",
    "#plt.plot(c_vals.keys(), c_vals.values(), '*b', label='Data1')\n",
    "\n",
    "plt.yscale('log')\n",
    "plt.grid(ls=':')\n",
    "plt.legend()\n",
    "\n",
    "#plt.ylim(1e-2)\n",
    "plt.xlabel('$xi$')\n",
    "plt.suptitle(fname.rsplit('/',1)[-1])\n",
    "plt.tight_layout()\n",
    "\n",
    "plt.show()\n"
   ]
  },
  {
   "cell_type": "markdown",
   "id": "6789c836-fb5c-47a5-905f-dc0b8c1359d5",
   "metadata": {},
   "source": [
    "# Cross-check with times"
   ]
  },
  {
   "cell_type": "code",
   "execution_count": null,
   "id": "8b46fde6-565f-46ad-9118-364a67442077",
   "metadata": {
    "scrolled": true
   },
   "outputs": [],
   "source": [
    "from tqdm.auto import tqdm\n",
    "\n",
    "result = []\n",
    "for Nsteps in tqdm(Ns):\n",
    "    result_n = []\n",
    "    p = rte.Process(src, tgt, medium=rte.medium.water, Nsteps=Nsteps)\n",
    "    for xi in tqdm(xis, desc=f'{Nsteps} order'):\n",
    "        #p['tgt']['T']=vp.Fixed(t)\n",
    "        p['steps']['t']['xi']['p_1']=\n",
    "        res = p.calculate(nitn=10, neval=10000)\n",
    "        result_n.append([res.mean, res.sdev])\n",
    "    result.append(result_n)\n",
    "\n",
    "#make it the same shape as photons\n",
    "result = np.array(result)\n",
    "result = np.swapaxes(result, 1,2)"
   ]
  },
  {
   "cell_type": "code",
   "execution_count": null,
   "id": "25f532a0-9961-4aa0-bfe5-2c07371f5c67",
   "metadata": {},
   "outputs": [],
   "source": [
    "f = [1,1,2**(0.5),2,2**(2)]"
   ]
  },
  {
   "cell_type": "code",
   "execution_count": null,
   "id": "0f7c14aa-c5dd-4de2-9aab-cf4999a31a68",
   "metadata": {},
   "outputs": [],
   "source": [
    "c_vals = {1e-6: 3.34332961e-07, 1e-8:1.10669159e+04}"
   ]
  },
  {
   "cell_type": "code",
   "execution_count": null,
   "id": "a7948e69-d5f9-45ba-9ef1-01e32ad2b392",
   "metadata": {},
   "outputs": [],
   "source": [
    "fig, axes = plt.subplots(2,len(Ns)//2, figsize=(8,6))#, sharey=True)\n",
    "axes = axes.flatten()\n",
    "ax = iter(axes)\n",
    "import pylab as plt\n",
    "for N,old,new in zip(Ns, photons, result):\n",
    "    plt.sca(next(ax))\n",
    "    plt.errorbar(x=times, y=old[0], yerr=old[1], fmt='.k', label='V')\n",
    "    plt.errorbar(x=times, y=new[0], yerr=new[1], fmt='r-', label='A')\n",
    "    if(f[N]!=1):\n",
    "        plt.errorbar(x=times, y=new[0]/f[N], yerr=new[1]/f[N], fmt='r--', label=f'A/{f[N]}')\n",
    "    plt.ylabel('$\\Phi^{'+f'({N})'+'}$')\n",
    "\n",
    "#plt.sca(axes[0])\n",
    "#plt.plot(c_vals.keys(), c_vals.values(), '*b', label='Data1')\n",
    "for ax in axes:\n",
    "    plt.sca(ax)\n",
    "    plt.yscale('log')\n",
    "    plt.grid(ls=':')\n",
    "    plt.legend()\n",
    "\n",
    "plt.xlabel('Time, s')\n",
    "plt.suptitle(fname.rsplit('/',1)[-1])\n",
    "plt.tight_layout()\n",
    "\n",
    "plt.show()\n",
    "\n"
   ]
  },
  {
   "cell_type": "code",
   "execution_count": null,
   "id": "c22bd235-a574-4890-b411-c75fe887c1ad",
   "metadata": {},
   "outputs": [],
   "source": [
    "fig, axes = plt.subplots(2,len(Ns)//2, figsize=(8,6))#, sharey=True)\n",
    "axes = axes.flatten()\n",
    "ax = iter(axes)\n",
    "\n",
    "ratio = result/photons\n",
    "\n",
    "for N, rat in zip(Ns, ratio):\n",
    "    plt.sca(next(ax))\n",
    "    plt.errorbar(x=times, y=rat[0], fmt='r-', label='new/old')\n",
    "    #plt.yscale('log')\n",
    "    plt.axhline(y=1,ls='-', color='k', lw=2)\n",
    "    plt.grid(ls=':')\n",
    "    plt.ylabel(f'new/old, N={N}')\n",
    "    \n",
    "#axes[0].legend()\n",
    "plt.xlabel('Time, s')\n",
    "plt.suptitle(fname.rsplit('/',1)[-1])\n",
    "plt.tight_layout()\n",
    "\n",
    "plt.show()\n",
    "\n"
   ]
  },
  {
   "cell_type": "code",
   "execution_count": null,
   "id": "d18a5986-6bf5-4e0d-8f69-1c44872c754d",
   "metadata": {},
   "outputs": [],
   "source": [
    "#plot the ratios by order\n",
    "r_valid =np.ma.masked_invalid(ratio[:,0])\n",
    "r_mean = r_valid.mean(axis=-1)\n",
    "r_sdev = r_valid.std(axis=-1)\n",
    "plt.errorbar(x=Ns, y=r_mean, yerr=r_sdev, fmt='*k', label='ratio from data')\n",
    "plt.plot(Ns, 2.0**(Ns-2), '--r', label = '$2^{N-2}$')\n",
    "plt.plot(Ns, 2**((Ns-1)/2), '--b', label = '$2^{(N-1)/2}$')\n",
    "plt.grid(ls=':')\n",
    "plt.legend()\n",
    "plt.xlabel('N')\n",
    "plt.ylabel('new/old')\n",
    "plt.axhline(y=1)\n",
    "plt.show()"
   ]
  },
  {
   "cell_type": "code",
   "execution_count": null,
   "id": "9984092f-d64e-4f48-9cac-4cf205feaf7b",
   "metadata": {},
   "outputs": [],
   "source": []
  }
 ],
 "metadata": {
  "kernelspec": {
   "display_name": "Python 3 (ipykernel)",
   "language": "python",
   "name": "python3"
  },
  "language_info": {
   "codemirror_mode": {
    "name": "ipython",
    "version": 3
   },
   "file_extension": ".py",
   "mimetype": "text/x-python",
   "name": "python",
   "nbconvert_exporter": "python",
   "pygments_lexer": "ipython3",
   "version": "3.11.8"
  }
 },
 "nbformat": 4,
 "nbformat_minor": 5
}
