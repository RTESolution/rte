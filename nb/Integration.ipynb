{
 "cells": [
  {
   "cell_type": "code",
   "execution_count": 1,
   "id": "9d357692-2cb0-416b-8894-40f9d9a1b686",
   "metadata": {},
   "outputs": [],
   "source": [
    "from rte import Process,Target, Source\n",
    "from rte.medium import water, Medium"
   ]
  },
  {
   "cell_type": "code",
   "execution_count": 2,
   "id": "fd0c2bb5-05d5-4f59-98ca-04764dce593c",
   "metadata": {},
   "outputs": [],
   "source": [
    "from vegas_params import Vector,Uniform,Scalar, Direction\n",
    "from vegas_params import integral"
   ]
  },
  {
   "cell_type": "markdown",
   "id": "d44dac41-c8a0-49f1-ae40-d99792b48c7e",
   "metadata": {},
   "source": [
    "$$\n",
    "\\begin{aligned}\n",
    "\\delta L^{(n)} =\n",
    "        A_{src}(\\vec{R}_{src}, T_{src}, \\hat{s}_{src}) \\cdot A_{det}(\\vec{R}_{det}, T_{det}, \\hat{s}_{det}) \\times \n",
    "        \\\\ \\times e^{-\\mu_t\\,c\\,(T_{det}-T_{src})}\\cdot \\left[\\mu_s\\,c\\,(T_{det}-T_{src})\\right]^n \\cdot \\prod_{i=0}^{n} f(\\hat{s}_i\\cdot\\hat{s}_{i-1})\\times \n",
    "        \\\\ \\times c \\cdot \\delta^3\\left(\\vec{R}_{tgt}-\\vec{R}_{src}-\\sum_{i=0}^{n} \\hat{s}_{i} c (t_{i+1}-t_{i})\\right)\n",
    "\\end{aligned}\n",
    "$$"
   ]
  },
  {
   "cell_type": "markdown",
   "id": "4a994724-5b11-4519-bfac-9388e0c5dd8b",
   "metadata": {},
   "source": [
    "$$\n",
    "F_{att} = e^{-\\mu_t\\,c\\,T}\\cdot \\left[\\mu_s\\,c\\,T\\right]^n\n",
    "$$"
   ]
  },
  {
   "cell_type": "markdown",
   "id": "27a54745-b220-4005-8d3c-ca8eb5bfe524",
   "metadata": {},
   "source": [
    "$$\n",
    "F_{scat} = \\prod_{i=1}^{n} f(\\hat{s}_i\\cdot\\hat{s}_{i-1})\n",
    "$$"
   ]
  },
  {
   "cell_type": "markdown",
   "id": "49f40e59-51c2-4aa4-babd-e47407cd3966",
   "metadata": {},
   "source": [
    "# Define the setup"
   ]
  },
  {
   "cell_type": "code",
   "execution_count": 3,
   "id": "fb452274-3645-4a36-9961-87b4da832b15",
   "metadata": {},
   "outputs": [],
   "source": [
    "src = Source(R=Vector([0,0]|Uniform([-5,5])), #emitter coordinates: a line along Z axis from -5 to +5\n",
    "             T=0, #fixed time: all photons emitted at T=0\n",
    "             s=Direction(cos_theta=0.9)) #any direction with cos_theta=0.9 (along Z)\n",
    "\n",
    "tgt = Target(R=Vector([10,0,20])+Direction()*2, #\n",
    "             T=Uniform([0.8,1.5])*(25./water.c)\n",
    "             #direction by default is uniform\n",
    "            )\n",
    "\n",
    "#define the process calculator\n",
    "p = Process(src, tgt, \n",
    "            Nsteps=2, \n",
    "            medium=water,\n",
    "            save_trajectory=False, \n",
    "            use_masking=False)"
   ]
  },
  {
   "cell_type": "code",
   "execution_count": 4,
   "id": "fcbc7a49-3d3f-4c1b-a746-7c852987f9dd",
   "metadata": {},
   "outputs": [
    {
     "name": "stdout",
     "output_type": "stream",
     "text": [
      "CPU times: user 650 ms, sys: 304 ms, total: 954 ms\n",
      "Wall time: 616 ms\n"
     ]
    },
    {
     "data": {
      "text/plain": [
       "6.069(75)e+06"
      ]
     },
     "execution_count": 4,
     "metadata": {},
     "output_type": "execute_result"
    }
   ],
   "source": [
    "%%time\n",
    "integral(p)(nitn=10, neval=100000)"
   ]
  },
  {
   "cell_type": "markdown",
   "id": "b571482e-13f1-4840-8976-b87346199e73",
   "metadata": {},
   "source": [
    "# Drawing a trajectory"
   ]
  },
  {
   "cell_type": "code",
   "execution_count": 5,
   "id": "d6a888ca-2f85-4bb0-a4ab-6a8680aefafa",
   "metadata": {},
   "outputs": [
    {
     "name": "stdout",
     "output_type": "stream",
     "text": [
      "CPU times: user 8.4 ms, sys: 1.4 ms, total: 9.81 ms\n",
      "Wall time: 9.07 ms\n"
     ]
    }
   ],
   "source": [
    "%%time\n",
    "p.save_trajectory=True #now we want trajectory\n",
    "p.use_masking=True\n",
    "result = p.sample(10000)"
   ]
  },
  {
   "cell_type": "code",
   "execution_count": 6,
   "id": "5d5f0799-d92f-4d21-81be-c9c8f051684e",
   "metadata": {},
   "outputs": [],
   "source": [
    "from rte.viewer import plot_trajectory\n",
    "%gui qt\n",
    "\n",
    "plot_trajectory(p.trajectory, p.factor**0.95)"
   ]
  },
  {
   "cell_type": "code",
   "execution_count": null,
   "id": "a27908f0-98ac-4974-a885-95056255f673",
   "metadata": {},
   "outputs": [],
   "source": []
  }
 ],
 "metadata": {
  "kernelspec": {
   "display_name": "Python 3 (ipykernel)",
   "language": "python",
   "name": "python3"
  },
  "language_info": {
   "codemirror_mode": {
    "name": "ipython",
    "version": 3
   },
   "file_extension": ".py",
   "mimetype": "text/x-python",
   "name": "python",
   "nbconvert_exporter": "python",
   "pygments_lexer": "ipython3",
   "version": "3.11.8"
  }
 },
 "nbformat": 4,
 "nbformat_minor": 5
}
